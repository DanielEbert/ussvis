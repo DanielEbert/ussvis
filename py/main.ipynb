{
 "cells": [
  {
   "cell_type": "code",
   "execution_count": 1,
   "id": "f95bd1e4-e6e7-4660-bf08-ceb9da311db2",
   "metadata": {},
   "outputs": [],
   "source": [
    "import altair as alt\n",
    "import pandas as pd\n",
    "from pprint import pprint as pp\n",
    "import json"
   ]
  },
  {
   "cell_type": "code",
   "execution_count": 8,
   "id": "32bcc783-b917-480f-b14a-2bf3a2e22307",
   "metadata": {},
   "outputs": [],
   "source": [
    "data = pd.DataFrame({\n",
    "    'echo_distances': [120, 150, 160],\n",
    "    'timestamps': [1,2,3],\n",
    "    'sender_id': [1,2,3]\n",
    "})\n",
    "\n",
    "selection = alt.selection_point(fields=['sender_id'], bind='legend')\n",
    "\n",
    "chart = alt.Chart(data).mark_point().encode(\n",
    "    alt.X('timestamps:Q').title('Timestamp'),\n",
    "    alt.Y('echo_distances:Q').title('Echo Distance'),\n",
    "    color='sender_id:N',\n",
    "    opacity=alt.condition(selection, alt.value(1), alt.value(0))\n",
    ").add_params(\n",
    "    selection\n",
    ").interactive(\n",
    ").properties(\n",
    "    width='container',\n",
    "    height='container'\n",
    ").configure_axis(\n",
    "    labelFontSize=16\n",
    ").configure_point(\n",
    "    size=250,\n",
    "    filled=True\n",
    ")\n",
    "\n",
    "#chart\n",
    "\n",
    "chart.save('plot.json')\n",
    "\n",
    "#with open('plot.json', 'w') as f:\n",
    "#    json.dump(chart.to_json(), f)\n",
    "\n",
    "#pp(chart.to_json())"
   ]
  },
  {
   "cell_type": "code",
   "execution_count": null,
   "id": "ce1058e1-4f7e-410c-ac04-787c7768025a",
   "metadata": {},
   "outputs": [],
   "source": []
  }
 ],
 "metadata": {
  "kernelspec": {
   "display_name": "Python 3 (ipykernel)",
   "language": "python",
   "name": "python3"
  },
  "language_info": {
   "codemirror_mode": {
    "name": "ipython",
    "version": 3
   },
   "file_extension": ".py",
   "mimetype": "text/x-python",
   "name": "python",
   "nbconvert_exporter": "python",
   "pygments_lexer": "ipython3",
   "version": "3.10.12"
  }
 },
 "nbformat": 4,
 "nbformat_minor": 5
}
